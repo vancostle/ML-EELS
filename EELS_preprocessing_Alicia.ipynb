{
 "cells": [
  {
   "cell_type": "markdown",
   "id": "859fb243-9a44-439d-9c73-6a199c23c597",
   "metadata": {
    "tags": []
   },
   "source": [
    "# Terminal EELS preprocessing:\n",
    "Daniel del-Pozo Bueno\n",
    "\n",
    "University of Barcelona\n",
    "\n",
    "20/07/2022\n",
    "\n",
    "In the context of the PhD Thesis C"
   ]
  },
  {
   "cell_type": "markdown",
   "id": "dc668310-4855-4772-92f7-f422d337371b",
   "metadata": {
    "tags": []
   },
   "source": [
    "## Libraries:"
   ]
  },
  {
   "cell_type": "code",
   "execution_count": 1,
   "id": "3a6ec617-1437-4bdd-a8e2-e3f0e3e8b4b1",
   "metadata": {},
   "outputs": [],
   "source": [
    "import hyperspy.api as hs\n",
    "import pickle \n",
    "from time import time\n",
    "import pandas as pd\n",
    "import copy as cp\n",
    "import joblib\n",
    "import numpy as np\n",
    "import os\n",
    "import math as ma\n",
    "#Matplotlib\n",
    "import matplotlib.pyplot as plt \n",
    "import sklearn \n",
    "from sklearn.decomposition import PCA"
   ]
  },
  {
   "cell_type": "markdown",
   "id": "c2a06623-7c32-4269-9958-f70010a3cdd3",
   "metadata": {
    "tags": []
   },
   "source": [
    "## File location: "
   ]
  },
  {
   "cell_type": "code",
   "execution_count": null,
   "id": "83806739-4269-4db5-9544-22aaf316f6a6",
   "metadata": {},
   "outputs": [
    {
     "ename": "SyntaxError",
     "evalue": "unterminated string literal (detected at line 1) (2568460066.py, line 1)",
     "output_type": "error",
     "traceback": [
      "\u001b[1;36m  Input \u001b[1;32mIn [12]\u001b[1;36m\u001b[0m\n\u001b[1;33m    file_location = 'C:\\Users\\dpb52\\Desktop\\2022_Tesis\\2022_07_Alicia_EMPA\\'\u001b[0m\n\u001b[1;37m                    ^\u001b[0m\n\u001b[1;31mSyntaxError\u001b[0m\u001b[1;31m:\u001b[0m unterminated string literal (detected at line 1)\n"
     ]
    }
   ],
   "source": [
    "file_location = 'C:\\Users\\dpb52\\Desktop\\2022_Tesis\\2022_07_Alicia_EMPA'"
   ]
  },
  {
   "cell_type": "code",
   "execution_count": 10,
   "id": "562dacaa-849b-4566-a096-e5d190e4ac4e",
   "metadata": {
    "tags": []
   },
   "outputs": [
    {
     "ename": "FileNotFoundError",
     "evalue": "[WinError 2] El sistema no puede encontrar el archivo especificado: 'C:/Users/dpb52/Desktop/2022_Alicia_EMPA'",
     "output_type": "error",
     "traceback": [
      "\u001b[1;31m---------------------------------------------------------------------------\u001b[0m",
      "\u001b[1;31mFileNotFoundError\u001b[0m                         Traceback (most recent call last)",
      "Input \u001b[1;32mIn [10]\u001b[0m, in \u001b[0;36m<cell line: 2>\u001b[1;34m()\u001b[0m\n\u001b[0;32m      1\u001b[0m \u001b[38;5;66;03m# Indicas la direccion donde tienes las imagenes:\u001b[39;00m\n\u001b[1;32m----> 2\u001b[0m \u001b[43mos\u001b[49m\u001b[38;5;241;43m.\u001b[39;49m\u001b[43mchdir\u001b[49m\u001b[43m(\u001b[49m\u001b[43mfile_location\u001b[49m\u001b[43m)\u001b[49m\n",
      "\u001b[1;31mFileNotFoundError\u001b[0m: [WinError 2] El sistema no puede encontrar el archivo especificado: 'C:/Users/dpb52/Desktop/2022_Alicia_EMPA'"
     ]
    }
   ],
   "source": [
    "# Indicas la direccion donde tienes las imagenes:\n",
    "os.chdir(file_location)"
   ]
  },
  {
   "cell_type": "markdown",
   "id": "6225cb9d-76f7-435c-95d8-60e8ba8f9b1b",
   "metadata": {
    "tags": []
   },
   "source": [
    "## Load data:"
   ]
  },
  {
   "cell_type": "code",
   "execution_count": 14,
   "id": "597e148c-274a-4c17-b1ba-be0057215d63",
   "metadata": {},
   "outputs": [],
   "source": [
    "SI1 = hs.load('EELSDataCube_09.rpl')"
   ]
  },
  {
   "cell_type": "markdown",
   "id": "f4fbad84-1c0a-488e-a962-92b22a3e2fba",
   "metadata": {},
   "source": [
    "#### Visualize data: "
   ]
  },
  {
   "cell_type": "code",
   "execution_count": 23,
   "id": "fda13717-9573-41ad-93ca-a4a6d0314c0b",
   "metadata": {},
   "outputs": [],
   "source": [
    "#%matplotlib qt\n",
    "SI1.plot()"
   ]
  },
  {
   "cell_type": "markdown",
   "id": "5bfcf21c-9cfc-463b-8967-967541bbdb9d",
   "metadata": {
    "tags": []
   },
   "source": [
    "## PCA:"
   ]
  },
  {
   "cell_type": "markdown",
   "id": "d439f9ad-3c30-4760-9460-bc118f0b79e0",
   "metadata": {
    "jp-MarkdownHeadingCollapsed": true,
    "tags": []
   },
   "source": [
    "#### Remove spikes: "
   ]
  },
  {
   "cell_type": "code",
   "execution_count": 17,
   "id": "dce34191-10ec-43e2-af3c-0794fca0066e",
   "metadata": {},
   "outputs": [
    {
     "data": {
      "application/vnd.jupyter.widget-view+json": {
       "model_id": "4163be6f26f646729bc874eb7801f883",
       "version_major": 2,
       "version_minor": 0
      },
      "text/plain": [
       "VBox(children=(VBox(children=(Button(description='Show derivative histogram', layout=Layout(width='auto'), sty…"
      ]
     },
     "metadata": {},
     "output_type": "display_data"
    }
   ],
   "source": [
    "SI1.spikes_removal_tool()"
   ]
  },
  {
   "cell_type": "markdown",
   "id": "4232962c-370f-4fa8-a0c2-cf3095969150",
   "metadata": {
    "tags": []
   },
   "source": [
    "#### Get decomposition:"
   ]
  },
  {
   "cell_type": "code",
   "execution_count": 16,
   "id": "ed05e794-7c89-448c-978c-e66f3c88bb1e",
   "metadata": {},
   "outputs": [
    {
     "name": "stdout",
     "output_type": "stream",
     "text": [
      "Decomposition info:\n",
      "  normalize_poissonian_noise=True\n",
      "  algorithm=SVD\n",
      "  output_dimension=None\n",
      "  centre=None\n"
     ]
    }
   ],
   "source": [
    "#Apply PCA:\n",
    "SI1.data[SI1.data<0]=0\n",
    "SI1.decomposition(True)"
   ]
  },
  {
   "cell_type": "markdown",
   "id": "bbb88d70-ab8b-4b3a-9aad-0c800153cf2e",
   "metadata": {
    "tags": []
   },
   "source": [
    "#### Evaluate the PCA: "
   ]
  },
  {
   "cell_type": "code",
   "execution_count": 17,
   "id": "29e1f9eb-238c-4feb-ad3b-9eb2c1e6003f",
   "metadata": {},
   "outputs": [
    {
     "data": {
      "text/plain": [
       "<AxesSubplot:title={'center':'\\nPCA Scree Plot'}, xlabel='Principal component index', ylabel='Proportion of variance'>"
      ]
     },
     "execution_count": 17,
     "metadata": {},
     "output_type": "execute_result"
    },
    {
     "data": {
      "image/png": "[encoded data removed]",
      "text/plain": [
       "<Figure size 432x288 with 1 Axes>"
      ]
     },
     "metadata": {
      "needs_background": "light"
     },
     "output_type": "display_data"
    }
   ],
   "source": [
    "%matplotlib inline\n",
    "SI1.plot_explained_variance_ratio()"
   ]
  },
  {
   "cell_type": "code",
   "execution_count": 18,
   "id": "a3f5ab2b-2a3f-4eb4-9b95-9b7b26a75c15",
   "metadata": {},
   "outputs": [
    {
     "data": {
      "application/vnd.jupyter.widget-view+json": {
       "model_id": "c7a29ca1aef84f78a0eaad703703c80d",
       "version_major": 2,
       "version_minor": 0
      },
      "text/plain": [
       "VBox(children=(HBox(children=(Label(value='Decomposition component index', layout=Layout(width='15%')), IntSli…"
      ]
     },
     "metadata": {},
     "output_type": "display_data"
    }
   ],
   "source": [
    "%matplotlib qt\n",
    "SI1.plot_decomposition_results()"
   ]
  },
  {
   "cell_type": "markdown",
   "id": "e5f0b994-8e6e-4ab0-a4a7-694cad3c1d46",
   "metadata": {
    "tags": []
   },
   "source": [
    "#### Get the denoise signal: "
   ]
  },
  {
   "cell_type": "code",
   "execution_count": 19,
   "id": "7db2048e-f6cb-44fa-aae7-49b8d2094f40",
   "metadata": {},
   "outputs": [],
   "source": [
    "pca_si1 = SI1.get_decomposition_model([0,1,2,3,4,5])"
   ]
  },
  {
   "cell_type": "code",
   "execution_count": 24,
   "id": "cad91d7c-a458-462a-bec9-94e48af7ad99",
   "metadata": {},
   "outputs": [],
   "source": [
    "pca_si1.plot()"
   ]
  },
  {
   "cell_type": "markdown",
   "id": "67746dfd-5c5d-44b1-aba3-35b43c95f0b1",
   "metadata": {
    "tags": []
   },
   "source": [
    "## Remove background:"
   ]
  },
  {
   "cell_type": "markdown",
   "id": "735c3bb1-5ed6-4b11-8f5e-33be0ffa822a",
   "metadata": {
    "jp-MarkdownHeadingCollapsed": true,
    "tags": []
   },
   "source": [
    "##### oxygen region:"
   ]
  },
  {
   "cell_type": "code",
   "execution_count": 73,
   "id": "3d13c0f0-ce9d-4e8a-bcbd-5e68b5798966",
   "metadata": {},
   "outputs": [],
   "source": [
    "#Energy range of background removal\n",
    "a = 460\n",
    "b = 505\n",
    "a = np.float64(a)\n",
    "b = np.float64(b)"
   ]
  },
  {
   "cell_type": "code",
   "execution_count": 74,
   "id": "ac7a7f6c-73b2-4f13-9ca9-72aea0314eb4",
   "metadata": {},
   "outputs": [],
   "source": [
    "final_spectrum_1 = pca_si1.remove_background(signal_range=(a,b),fast=True)"
   ]
  },
  {
   "cell_type": "code",
   "execution_count": 75,
   "id": "6004a036-c66d-4148-bf89-79cd24f88adb",
   "metadata": {},
   "outputs": [],
   "source": [
    "final_spectrum_1.plot()"
   ]
  },
  {
   "cell_type": "markdown",
   "id": "49afac0d-1d07-4062-8f7f-627a9a440117",
   "metadata": {
    "tags": []
   },
   "source": [
    "##### manganese region:"
   ]
  },
  {
   "cell_type": "code",
   "execution_count": 99,
   "id": "74c6f463-3d2c-4453-98f7-052f11f55e29",
   "metadata": {},
   "outputs": [],
   "source": [
    "#Energy range of background removal\n",
    "a = 550\n",
    "b = 615\n",
    "a = np.float64(a)\n",
    "b = np.float64(b)"
   ]
  },
  {
   "cell_type": "code",
   "execution_count": 100,
   "id": "53070083-cb2a-44e3-807c-2e0deb405323",
   "metadata": {},
   "outputs": [],
   "source": [
    "final_spectrum_2 = pca_si1.remove_background(signal_range=(a,b),fast=True)"
   ]
  },
  {
   "cell_type": "code",
   "execution_count": 101,
   "id": "39c2e6da-4820-4b70-9a78-38d0f878b752",
   "metadata": {},
   "outputs": [],
   "source": [
    "final_spectrum_2.plot()"
   ]
  },
  {
   "cell_type": "markdown",
   "id": "93437015-af47-408c-a1e4-9540e6470319",
   "metadata": {
    "jp-MarkdownHeadingCollapsed": true,
    "tags": []
   },
   "source": [
    "## Deconvolution:"
   ]
  },
  {
   "cell_type": "code",
   "execution_count": null,
   "id": "763212c1-f523-471d-bb22-48ffe00a5b88",
   "metadata": {},
   "outputs": [
    {
     "name": "stderr",
     "output_type": "stream",
     "text": [
      "WARNING:hyperspy._signals.signal1d:Parallel operation is not supported on Windows. Setting `parallel=False`\n"
     ]
    },
    {
     "data": {
      "application/vnd.jupyter.widget-view+json": {
       "model_id": "398c2f17beed413684c0cbc182a86a64",
       "version_major": 2,
       "version_minor": 0
      },
      "text/plain": [
       "  0%|          | 0/288 [00:00<?, ?it/s]"
      ]
     },
     "metadata": {},
     "output_type": "display_data"
    },
    {
     "data": {
      "application/vnd.jupyter.widget-view+json": {
       "model_id": "1e00eae4b1094002aae112c3b024e65c",
       "version_major": 2,
       "version_minor": 0
      },
      "text/plain": [
       "  0%|          | 0/288 [00:00<?, ?it/s]"
      ]
     },
     "metadata": {},
     "output_type": "display_data"
    }
   ],
   "source": [
    "# You need the zero loss peak (zlp) from the same spatial region to properly deconvolve. \n",
    "SI_deconvolved = SI_core_loss.fourier_log_deconvolution(SI_zlp)"
   ]
  },
  {
   "cell_type": "markdown",
   "id": "490f6ce9-add0-4eb1-b7e7-d25f593585b2",
   "metadata": {
    "tags": []
   },
   "source": [
    "## Crop in energy:"
   ]
  },
  {
   "cell_type": "code",
   "execution_count": 79,
   "id": "9f7aaa83-8273-41c3-8221-81642ce5a979",
   "metadata": {},
   "outputs": [],
   "source": [
    "#Energy range to crop spectra\n",
    "c = 500.\n",
    "d = 654."
   ]
  },
  {
   "cell_type": "code",
   "execution_count": 80,
   "id": "306abd82-a5d2-42ba-9d7f-e6923c0ef06a",
   "metadata": {},
   "outputs": [],
   "source": [
    "cropped_1 = final_spectrum_1.isig[c:d]"
   ]
  },
  {
   "cell_type": "code",
   "execution_count": 81,
   "id": "5d992f65-4a49-4d16-8ec5-1ba66322fb28",
   "metadata": {},
   "outputs": [],
   "source": [
    "%matplotlib qt\n",
    "cropped_1.plot()"
   ]
  },
  {
   "cell_type": "code",
   "execution_count": 105,
   "id": "d8a5b12f-6bdb-4001-ac18-1385c1b99695",
   "metadata": {},
   "outputs": [],
   "source": [
    "#Energy range to crop spectra\n",
    "c = 575.\n",
    "d = 654."
   ]
  },
  {
   "cell_type": "code",
   "execution_count": 106,
   "id": "f434c093-af79-4e62-9283-ed843a26d01e",
   "metadata": {},
   "outputs": [],
   "source": [
    "cropped_2 = final_spectrum_2.isig[c:d]"
   ]
  },
  {
   "cell_type": "code",
   "execution_count": 107,
   "id": "a11c07e2-d257-4225-b813-82c4f6bf63ac",
   "metadata": {},
   "outputs": [],
   "source": [
    "%matplotlib qt\n",
    "cropped_2.plot()"
   ]
  },
  {
   "cell_type": "markdown",
   "id": "380e5b85-34ce-41b5-8784-00b56e7e99a5",
   "metadata": {
    "jp-MarkdownHeadingCollapsed": true,
    "tags": []
   },
   "source": [
    "## Crop in space:"
   ]
  },
  {
   "cell_type": "code",
   "execution_count": null,
   "id": "071382f5-f3f6-49f4-87a2-6087d0363ea4",
   "metadata": {},
   "outputs": [],
   "source": []
  },
  {
   "cell_type": "markdown",
   "id": "655f3793-8fa5-48a3-b3fe-d87c48dab1e1",
   "metadata": {
    "tags": []
   },
   "source": [
    "## Save data in hdf5:"
   ]
  },
  {
   "cell_type": "code",
   "execution_count": 85,
   "id": "4fe5942b-1cd5-4701-a63d-aa80916220db",
   "metadata": {},
   "outputs": [],
   "source": [
    "cropped_1.save('SI_EELS_09_oxygen.hdf5')"
   ]
  },
  {
   "cell_type": "code",
   "execution_count": 108,
   "id": "f0101d0f-36f4-43a5-b786-b49bc2b75e83",
   "metadata": {},
   "outputs": [
    {
     "name": "stdin",
     "output_type": "stream",
     "text": [
      "Overwrite 'C:\\Users\\dpb52\\Desktop\\2022_Alicia\\SI_EELS_09_whitelines.hdf5' (y/n)?\n",
      " y\n"
     ]
    }
   ],
   "source": [
    "cropped_2.save('SI_EELS_09_whitelines.hdf5')"
   ]
  },
  {
   "cell_type": "code",
   "execution_count": null,
   "id": "c2ed75fd-ccc5-4424-afa8-fe7d789b8d84",
   "metadata": {},
   "outputs": [],
   "source": []
  }
 ],
 "metadata": {
  "kernelspec": {
   "display_name": "Python 3 (ipykernel)",
   "language": "python",
   "name": "python3"
  },
  "language_info": {
   "codemirror_mode": {
    "name": "ipython",
    "version": 3
   },
   "file_extension": ".py",
   "mimetype": "text/x-python",
   "name": "python",
   "nbconvert_exporter": "python",
   "pygments_lexer": "ipython3",
   "version": "3.10.4"
  }
 },
 "nbformat": 4,
 "nbformat_minor": 5
}
